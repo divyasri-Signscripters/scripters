{
 "cells": [
  {
   "cell_type": "code",
   "execution_count": 2,
   "id": "ee94445a",
   "metadata": {},
   "outputs": [],
   "source": [
    "import tensorflow as tf\n",
    "from tensorflow.keras import layers, models\n",
    "from tensorflow.keras.preprocessing.image import ImageDataGenerator\n",
    "from tensorflow.keras.preprocessing import image\n",
    "\n"
   ]
  },
  {
   "cell_type": "code",
   "execution_count": 4,
   "id": "9e162a3c",
   "metadata": {},
   "outputs": [],
   "source": [
    "# Create a more complex CNN model\n",
    "model = models.Sequential([\n",
    "    layers.Conv2D(32, (3, 3), activation='relu', input_shape=(150, 150, 3)),\n",
    "    layers.MaxPooling2D((2, 2)),\n",
    "    layers.Conv2D(64, (3, 3), activation='relu'),\n",
    "    layers.MaxPooling2D((2, 2)),\n",
    "    layers.Conv2D(128, (3, 3), activation='relu'),\n",
    "    layers.MaxPooling2D((2, 2)),\n",
    "    layers.Flatten(),\n",
    "    layers.Dense(128, activation='relu'),\n",
    "    layers.Dense(1, activation='sigmoid')\n",
    "])\n"
   ]
  },
  {
   "cell_type": "code",
   "execution_count": 5,
   "id": "f19235a5",
   "metadata": {},
   "outputs": [],
   "source": [
    "# Compile the model\n",
    "model.compile(optimizer='adam',\n",
    "              loss='binary_crossentropy',\n",
    "              metrics=['accuracy'])"
   ]
  },
  {
   "cell_type": "code",
   "execution_count": 5,
   "id": "47c8316d",
   "metadata": {},
   "outputs": [
    {
     "name": "stdout",
     "output_type": "stream",
     "text": [
      "Found 11515 images belonging to 39 classes.\n"
     ]
    }
   ],
   "source": [
    "#Assuming you have your own dataset for training\n",
    "train_datagen = ImageDataGenerator(rescale=1./255)\n",
    "train_generator = train_datagen.flow_from_directory(\n",
    "         'C:/asl/asl_alphabet_train',\n",
    "         target_size=(150, 150),\n",
    "         batch_size=20,\n",
    "         class_mode='binary')"
   ]
  },
  {
   "cell_type": "code",
   "execution_count": 6,
   "id": "aed2de51",
   "metadata": {},
   "outputs": [
    {
     "name": "stderr",
     "output_type": "stream",
     "text": [
      "C:\\Users\\Divya sri\\anaconda3\\Lib\\site-packages\\keras\\src\\engine\\training.py:3079: UserWarning: You are saving your model as an HDF5 file via `model.save()`. This file format is considered legacy. We recommend using instead the native Keras format, e.g. `model.save('my_model.keras')`.\n",
      "  saving_api.save_model(\n"
     ]
    }
   ],
   "source": [
    "# Save the model\n",
    "model.save('small_cnn_model.h5')"
   ]
  },
  {
   "cell_type": "code",
   "execution_count": 7,
   "id": "525e52c7",
   "metadata": {},
   "outputs": [],
   "source": [
    "# Load the saved model\n",
    "model = tf.keras.models.load_model('small_cnn_model.h5')"
   ]
  },
  {
   "cell_type": "code",
   "execution_count": 8,
   "id": "e83992a2",
   "metadata": {},
   "outputs": [],
   "source": [
    "# Use the camera to capture an image\n",
    "#camera = cv2.VideoCapture(0)\n",
    "#eturn_value, image = camera.read()\n",
    "#cv2.imwrite('C:/asl/asl_alphabet_test/0_test.jpeg', image)\n",
    "#del(camera)"
   ]
  },
  {
   "cell_type": "code",
   "execution_count": 9,
   "id": "b686d5c4",
   "metadata": {},
   "outputs": [],
   "source": [
    "# Preprocess the image for the model\n",
    "import numpy as np\n",
    "\n",
    "img_path = 'C:/asl/asl_alphabet_test/1.jpeg'\n",
    "img = image.load_img(img_path, target_size=(150, 150))\n",
    "x = image.img_to_array(img)\n",
    "x = np.expand_dims(x, axis=0)\n",
    "x = x / 255.0  # Normalize the image"
   ]
  },
  {
   "cell_type": "code",
   "execution_count": 10,
   "id": "1fa3fb4f",
   "metadata": {},
   "outputs": [],
   "source": [
    "from tensorflow.keras.preprocessing import image\n",
    "import numpy as np\n",
    "\n",
    "# Preprocess the image for the model\n",
    "img_path = 'C:/asl/asl_alphabet_test/'\n",
    "#img = image.load_img(img_path, target_size=(150, 150))\n",
    "#x = image.img_to_array(img)\n",
    "#x = np.expand_dims(x, axis=0)\n",
    "#x = x / 255.0  # Normalize the image"
   ]
  },
  {
   "cell_type": "code",
   "execution_count": 11,
   "id": "e6d72a49",
   "metadata": {},
   "outputs": [],
   "source": [
    "import tensorflow as tf\n",
    "from tensorflow.keras import layers, models\n",
    "from tensorflow.keras.preprocessing import image\n",
    "import numpy as np\n",
    "import cv2"
   ]
  },
  {
   "cell_type": "code",
   "execution_count": 12,
   "id": "6a6ecf14",
   "metadata": {},
   "outputs": [],
   "source": [
    "# Function to preprocess the image\n",
    "def preprocess_image(img_path):\n",
    "    img = cv2.imread(img_path)\n",
    "    if img is not None:\n",
    "        img = cv2.resize(img, (150, 150))\n",
    "        img = np.expand_dims(img, axis=0)\n",
    "        return img / 255.0  # Normalize the image\n",
    "    else:\n",
    "        print(f\"Failed to load image at {img_path}\")\n",
    "        return None"
   ]
  },
  {
   "cell_type": "code",
   "execution_count": 13,
   "id": "8e56f083",
   "metadata": {},
   "outputs": [],
   "source": [
    "test_images = ['C:/asl/asl_alphabet_test/5.jpeg',\n",
    "               'C:/asl/asl_alphabet_test/1.jpeg',\n",
    "               'C:/asl/asl_alphabet_test/2.jpeg',\n",
    "               'C:/asl/asl_alphabet_test/3.jpeg',\n",
    "               'C:/asl/asl_alphabet_test/4.jpeg']"
   ]
  },
  {
   "cell_type": "code",
   "execution_count": 14,
   "id": "1bad77f9",
   "metadata": {},
   "outputs": [
    {
     "name": "stdout",
     "output_type": "stream",
     "text": [
      "1/1 [==============================] - 0s 439ms/step\n",
      "Image C:/asl/asl_alphabet_test/5.jpeg contains an object as per the trained model.\n",
      "1/1 [==============================] - 0s 31ms/step\n",
      "Image C:/asl/asl_alphabet_test/1.jpeg contains an object as per the trained model.\n",
      "1/1 [==============================] - 0s 31ms/step\n",
      "Image C:/asl/asl_alphabet_test/2.jpeg contains an object as per the trained model.\n",
      "1/1 [==============================] - 0s 47ms/step\n",
      "Image C:/asl/asl_alphabet_test/3.jpeg contains an object as per the trained model.\n",
      "1/1 [==============================] - 0s 38ms/step\n",
      "Image C:/asl/asl_alphabet_test/4.jpeg contains an object as per the trained model.\n"
     ]
    }
   ],
   "source": [
    "correct_predictions = 0\n",
    "total_images = len(test_images)\n",
    "for img_path in test_images:\n",
    "    preprocessed_img = preprocess_image(img_path)\n",
    "    if preprocessed_img is not None:\n",
    "        prediction = model.predict(preprocessed_img)\n",
    "        if prediction[0][0] > 0.2:\n",
    "            print(f\"Image {img_path} contains an object as per the trained model.\")\n",
    "            correct_predictions += 1\n",
    "        else:\n",
    "            print(f\"Image {img_path} does not contain an object as per the trained model.\")"
   ]
  },
  {
   "cell_type": "code",
   "execution_count": 19,
   "id": "39656aa2",
   "metadata": {},
   "outputs": [
    {
     "name": "stdout",
     "output_type": "stream",
     "text": [
      "Image C:/asl/asl_alphabet_test/4.jpeg does not contain an object as per the trained model.\n"
     ]
    }
   ],
   "source": [
    "if prediction[0][0] > 0.5:\n",
    "        print(f\"Image {img_path} contains an object as per the trained model.\")\n",
    "        correct_predictions += 1\n",
    "else:\n",
    "        print(f\"Image {img_path} does not contain an object as per the trained model.\")\n"
   ]
  },
  {
   "cell_type": "code",
   "execution_count": 16,
   "id": "c5936e4c",
   "metadata": {},
   "outputs": [
    {
     "name": "stdout",
     "output_type": "stream",
     "text": [
      "Accuracy: 100.0%\n"
     ]
    }
   ],
   "source": [
    "# Calculate and print accuracy\n",
    "accuracy = correct_predictions / total_images * 100\n",
    "print(f\"Accuracy: {accuracy}%\")"
   ]
  },
  {
   "cell_type": "code",
   "execution_count": 18,
   "id": "f998ad07",
   "metadata": {},
   "outputs": [
    {
     "ename": "error",
     "evalue": "OpenCV(4.6.0) C:\\b\\abs_f8n1j3l9l0\\croot\\opencv-suite_1691622637237\\work\\modules\\highgui\\src\\window.cpp:1267: error: (-2:Unspecified error) The function is not implemented. Rebuild the library with Windows, GTK+ 2.x or Cocoa support. If you are on Ubuntu or Debian, install libgtk2.0-dev and pkg-config, then re-run cmake or configure script in function 'cvShowImage'\n",
     "output_type": "error",
     "traceback": [
      "\u001b[1;31m---------------------------------------------------------------------------\u001b[0m",
      "\u001b[1;31merror\u001b[0m                                     Traceback (most recent call last)",
      "Cell \u001b[1;32mIn[18], line 25\u001b[0m\n\u001b[0;32m     22\u001b[0m     cv2\u001b[38;5;241m.\u001b[39mdestroyAllWindows()\n\u001b[0;32m     24\u001b[0m \u001b[38;5;66;03m# Call the function to capture test image from the camera\u001b[39;00m\n\u001b[1;32m---> 25\u001b[0m capture_test_image()\n",
      "Cell \u001b[1;32mIn[18], line 14\u001b[0m, in \u001b[0;36mcapture_test_image\u001b[1;34m()\u001b[0m\n\u001b[0;32m     12\u001b[0m \u001b[38;5;28;01mwhile\u001b[39;00m \u001b[38;5;28;01mTrue\u001b[39;00m:\n\u001b[0;32m     13\u001b[0m     ret, frame \u001b[38;5;241m=\u001b[39m cap\u001b[38;5;241m.\u001b[39mread()\n\u001b[1;32m---> 14\u001b[0m     cv2\u001b[38;5;241m.\u001b[39mimshow(\u001b[38;5;124m'\u001b[39m\u001b[38;5;124mTest Image\u001b[39m\u001b[38;5;124m'\u001b[39m, frame)\n\u001b[0;32m     16\u001b[0m     \u001b[38;5;28;01mif\u001b[39;00m cv2\u001b[38;5;241m.\u001b[39mwaitKey(\u001b[38;5;241m1\u001b[39m) \u001b[38;5;241m&\u001b[39m \u001b[38;5;241m0xFF\u001b[39m \u001b[38;5;241m==\u001b[39m \u001b[38;5;28mord\u001b[39m(\u001b[38;5;124m'\u001b[39m\u001b[38;5;124mq\u001b[39m\u001b[38;5;124m'\u001b[39m):\n\u001b[0;32m     17\u001b[0m         predicted_text \u001b[38;5;241m=\u001b[39m predict_asl_image(frame)\n",
      "\u001b[1;31merror\u001b[0m: OpenCV(4.6.0) C:\\b\\abs_f8n1j3l9l0\\croot\\opencv-suite_1691622637237\\work\\modules\\highgui\\src\\window.cpp:1267: error: (-2:Unspecified error) The function is not implemented. Rebuild the library with Windows, GTK+ 2.x or Cocoa support. If you are on Ubuntu or Debian, install libgtk2.0-dev and pkg-config, then re-run cmake or configure script in function 'cvShowImage'\n"
     ]
    }
   ],
   "source": [
    "\n",
    "import cv2\n",
    "import numpy as np\n",
    "import tensorflow as tf\n",
    "from tensorflow.keras import layers, models\n",
    "\n",
    "\n",
    "\n",
    "\n",
    "# Capture test image from camera\n",
    "def capture_test_image():\n",
    "    cap = cv2.VideoCapture(0)\n",
    "    while True:\n",
    "        ret, frame = cap.read()\n",
    "        cv2.imshow('Test Image', frame)\n",
    "\n",
    "        if cv2.waitKey(1) & 0xFF == ord('q'):\n",
    "            predicted_text = predict_asl_image(frame)\n",
    "            print(f\"Predicted ASL text: {predicted_text}\")\n",
    "            break\n",
    "\n",
    "    cap.release()\n",
    "    cv2.destroyAllWindows()\n",
    "\n",
    "# Call the function to capture test image from the camera\n",
    "capture_test_image()\n"
   ]
  },
  {
   "cell_type": "code",
   "execution_count": null,
   "id": "f61f86f9",
   "metadata": {
    "scrolled": true
   },
   "outputs": [],
   "source": []
  },
  {
   "cell_type": "code",
   "execution_count": null,
   "id": "c8140456",
   "metadata": {},
   "outputs": [],
   "source": []
  }
 ],
 "metadata": {
  "kernelspec": {
   "display_name": "Python 3 (ipykernel)",
   "language": "python",
   "name": "python3"
  },
  "language_info": {
   "codemirror_mode": {
    "name": "ipython",
    "version": 3
   },
   "file_extension": ".py",
   "mimetype": "text/x-python",
   "name": "python",
   "nbconvert_exporter": "python",
   "pygments_lexer": "ipython3",
   "version": "3.11.5"
  }
 },
 "nbformat": 4,
 "nbformat_minor": 5
}
